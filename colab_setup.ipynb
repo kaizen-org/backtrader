{
 "cells": [
  {
   "cell_type": "markdown",
   "metadata": {},
   "source": [
    "# Configuración del Entorno del Proyecto en Google Colab\n",
    "\n",
    "Este notebook prepara el entorno para ejecutar el proyecto de backtesting algorítmico.\n",
    "\n",
    "Sigue los pasos y ejecuta cada celda en orden."
   ]
  },
  {
   "cell_type": "markdown",
   "metadata": {},
   "source": [
    "## 1. Clonar el Repositorio de GitHub\n",
    "\n",
    "Clonamos el proyecto desde su repositorio central. Esto descargará todos los scripts y archivos de código."
   ]
  },
  {
   "cell_type": "code",
   "execution_count": null,
   "metadata": {},
   "outputs": [],
   "source": [
    "!git clone https://github.com/kaizen-org/backtrader.git"
   ]
  },
  {
   "cell_type": "code",
   "execution_count": null,
   "metadata": {},
   "outputs": [],
   "source": [
    "%cd backtrader"
   ]
  },
  {
   "cell_type": "markdown",
   "metadata": {},
   "source": [
    "## 2. Instalar Git LFS y Descargar Archivos Grandes\n",
    "\n",
    "El proyecto usa Git Large File Storage (LFS) para manejar archivos de datos pesados (como los `.csv`). \n",
    "\n",
    "Estos comandos instalan LFS y luego descargan el contenido real de esos archivos."
   ]
  },
  {
   "cell_type": "code",
   "execution_count": null,
   "metadata": {},
   "outputs": [],
   "source": [
    "!git lfs install"
   ]
  },
  {
   "cell_type": "code",
   "execution_count": null,
   "metadata": {},
   "outputs": [],
   "source": [
    "!git lfs pull"
   ]
  },
  {
   "cell_type": "markdown",
   "metadata": {},
   "source": [
    "## 3. Instalar las Dependencias de Python\n",
    "\n",
    "Instalamos todas las librerías necesarias para que los scripts se ejecuten correctamente, usando el archivo `requirements.txt`."
   ]
  },
  {
   "cell_type": "code",
   "execution_count": null,
   "metadata": {},
   "outputs": [],
   "source": [
    "!pip install -r requirements.txt"
   ]
  },
  {
   "cell_type": "markdown",
   "metadata": {},
   "source": [
    "## 4. Conectar con Google Drive (Opcional pero Recomendado)\n",
    "\n",
    "Si necesitas guardar resultados (modelos, gráficos) o usar conjuntos de datos privados de forma persistente, es fundamental montar tu Google Drive. De lo contrario, todos los archivos generados se perderán al cerrar la sesión de Colab."
   ]
  },
  {
   "cell_type": "code",
   "execution_count": null,
   "metadata": {},
   "outputs": [],
   "source": [
    "from google.colab import drive\n",
    "drive.mount('/content/drive')"
   ]
  },
  {
   "cell_type": "markdown",
   "metadata": {},
   "source": [
    "## ¡Entorno Listo!\n",
    "\n",
    "¡Felicidades! Tu entorno está configurado y listo para usarse.\n",
    "\n",
    "Ahora puedes:\n",
    "1. Navegar por los archivos del proyecto en el panel de la izquierda.\n",
    "2. Abrir otros notebooks (`.ipynb`) del proyecto para ejecutarlos.\n",
    "3. Ejecutar scripts de Python (`.py`) directamente en una nueva celda. Por ejemplo:"
   ]
  },
  {
   "cell_type": "code",
   "execution_count": null,
   "metadata": {},
   "outputs": [],
   "source": [
    "# Ejemplo de cómo ejecutar un script del proyecto\n",
    "# !python train_gru_model.py"
   ]
  }
 ],
 "metadata": {
  "colab": {
   "name": "colab_setup.ipynb",
   "provenance": []
  },
  "kernelspec": {
   "display_name": "Python 3",
   "name": "python3"
  },
  "language_info": {
   "name": "python"
  }
 },
 "nbformat": 4,
 "nbformat_minor": 0
}
