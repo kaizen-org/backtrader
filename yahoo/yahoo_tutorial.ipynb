{
 "cells": [
  {
   "cell_type": "markdown",
   "metadata": {},
   "source": [
    "# Descargar Datos Históricos de Yahoo Finance\n",
    "\n",
    "Este notebook muestra cómo descargar datos históricos de Yahoo Finance utilizando `backtrader`. \n",
    "Utilizaremos el script `download_yahoo.py` que hemos creado."
   ]
  },
  {
   "cell_type": "markdown",
   "metadata": {},
   "source": [
    "## 1. Requisitos Previos\n",
    "\n",
    "- **backtrader instalado**: Si no tienes `backtrader` instalado, la siguiente celda lo instalará."
   ]
  },
  {
   "cell_type": "code",
   "execution_count": null,
   "metadata": {},
   "outputs": [],
   "source": [
    "!pip install backtrader"
   ]
  },
  {
   "cell_type": "markdown",
   "metadata": {},
   "source": [
    "## 2. Descargar los Datos\n",
    "\n",
    "Ahora, vamos a ejecutar el script `download_yahoo.py` desde el notebook. \n",
    "Puedes cambiar los parámetros según tus necesidades.\n",
    "\n",
    "- `--dataname`: El ticker del instrumento (ej. \"AAPL\").\n",
    "- `--fromdate`: La fecha de inicio en formato YYYY-MM-DD.\n",
    "- `--todate`: La fecha de fin en formato YYYY-MM-DD.\n",
    "\n",
    "El script guardará los datos en un archivo CSV con el nombre del ticker (ej. `AAPL.csv`)."
   ]
  },
  {
   "cell_type": "code",
   "execution_count": 1,
   "metadata": {},
   "outputs": [
    {
     "name": "stdout",
     "output_type": "stream",
     "text": [
      "Saved data to AAPL.csv\n"
     ]
    }
   ],
   "source": [
    "!python download_yahoo.py --dataname \"AAPL\" --fromdate \"2022-01-01\" --todate \"2023-01-01\""
   ]
  },
  {
   "cell_type": "markdown",
   "metadata": {},
   "source": [
    "## 3. Cargar y Visualizar los Datos\n",
    "\n",
    "Ahora que hemos descargado los datos a un archivo CSV, podemos cargarlos en un DataFrame de pandas y visualizarlos."
   ]
  },
  {
   "cell_type": "code",
   "execution_count": 2,
   "metadata": {},
   "outputs": [
    {
     "ename": "ModuleNotFoundError",
     "evalue": "No module named 'pandas'",
     "output_type": "error",
     "traceback": [
      "\u001b[31m---------------------------------------------------------------------------\u001b[39m",
      "\u001b[31mModuleNotFoundError\u001b[39m                       Traceback (most recent call last)",
      "\u001b[36mCell\u001b[39m\u001b[36m \u001b[39m\u001b[32mIn[2]\u001b[39m\u001b[32m, line 1\u001b[39m\n\u001b[32m----> \u001b[39m\u001b[32m1\u001b[39m \u001b[38;5;28;01mimport\u001b[39;00m\u001b[38;5;250m \u001b[39m\u001b[34;01mpandas\u001b[39;00m\u001b[38;5;250m \u001b[39m\u001b[38;5;28;01mas\u001b[39;00m\u001b[38;5;250m \u001b[39m\u001b[34;01mpd\u001b[39;00m\n\u001b[32m      2\u001b[39m \u001b[38;5;28;01mimport\u001b[39;00m\u001b[38;5;250m \u001b[39m\u001b[34;01mmatplotlib\u001b[39;00m\u001b[34;01m.\u001b[39;00m\u001b[34;01mpyplot\u001b[39;00m\u001b[38;5;250m \u001b[39m\u001b[38;5;28;01mas\u001b[39;00m\u001b[38;5;250m \u001b[39m\u001b[34;01mplt\u001b[39;00m\n\u001b[32m      4\u001b[39m \u001b[38;5;66;03m# Cargar los datos desde el CSV\u001b[39;00m\n",
      "\u001b[31mModuleNotFoundError\u001b[39m: No module named 'pandas'"
     ]
    }
   ],
   "source": [
    "import pandas as pd\n",
    "import matplotlib.pyplot as plt\n",
    "\n",
    "# Cargar los datos desde el CSV\n",
    "df = pd.read_csv('AAPL.csv', index_col='datetime', parse_dates=True)\n",
    "\n",
    "# Mostrar las primeras filas del DataFrame\n",
    "print(df.head())\n",
    "\n",
    "# Graficar el precio de cierre\n",
    "df['close'].plot(title='Precio de Cierre de AAPL')\n",
    "plt.show()"
   ]
  }
 ],
 "metadata": {
  "kernelspec": {
   "display_name": ".venv",
   "language": "python",
   "name": "python3"
  },
  "language_info": {
   "codemirror_mode": {
    "name": "ipython",
    "version": 3
   },
   "file_extension": ".py",
   "mimetype": "text/x-python",
   "name": "python",
   "nbconvert_exporter": "python",
   "pygments_lexer": "ipython3",
   "version": "3.13.1"
  }
 },
 "nbformat": 4,
 "nbformat_minor": 4
}
