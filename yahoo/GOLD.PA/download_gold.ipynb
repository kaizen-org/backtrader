{
 "cells": [
  {
   "cell_type": "markdown",
   "metadata": {},
   "source": [
    "# Descargar Datos Históricos para GOLD.PA\n",
    "\n",
    "Este notebook descarga los datos históricos del último año para el ticker **GOLD.PA** de Yahoo Finance y los guarda en formato **Parquet**."
   ]
  },
  {
   "cell_type": "markdown",
   "metadata": {},
   "source": [
    "## 1. Requisitos Previos\n",
    "\n",
    "Asegúrate de tener las bibliotecas necesarias. La siguiente celda instalará `yfinance` para la descarga, `pandas` para la manipulación de datos y `pyarrow` para poder guardar en formato Parquet."
   ]
  },
  {
   "cell_type": "code",
   "execution_count": null,
   "metadata": {},
   "outputs": [],
   "source": [
    "!pip install yfinance pandas pyarrow"
   ]
  },
  {
   "cell_type": "markdown",
   "metadata": {},
   "source": [
    "## 2. Descargar y Guardar los Datos\n",
    "\n",
    "El siguiente código se conectará a Yahoo Finance, descargará los datos del último año para `GOLD.PA` y los guardará en el archivo `GOLD.PA.parquet`."
   ]
  },
  {
   "cell_type": "code",
   "execution_count": null,
   "metadata": {},
   "outputs": [],
   "source": [
    "import yfinance as yf\n",
    "import pandas as pd\n",
    "from datetime import datetime, timedelta\n",
    "\n",
    "# Definir el ticker y las fechas\n",
    "ticker_symbol = 'GOLD.PA'\n",
    "end_date = datetime.now()\n",
    "start_date = end_date - timedelta(days=365)\n",
    "\n",
    "# Descargar los datos\n",
    "print(f\"Descargando datos para {ticker_symbol} desde {start_date.strftime('%Y-%m-%d')} hasta {end_date.strftime('%Y-%m-%d')}\")\n",
    "data = yf.download(ticker_symbol, start=start_date, end=end_date)\n",
    "\n",
    "# Guardar en formato Parquet\n",
    "output_file = f'{ticker_symbol}.parquet'\n",
    "data.to_parquet(output_file)\n",
    "\n",
    "print(f'\\nDatos guardados exitosamente en: {output_file}')"
   ]
  },
  {
   "cell_type": "markdown",
   "metadata": {},
   "source": [
    "## 3. Verificar los Datos Guardados\n",
    "\n",
    "Para asegurarnos de que los datos se guardaron correctamente, leemos el archivo Parquet y mostramos las primeras filas."
   ]
  },
  {
   "cell_type": "code",
   "execution_count": null,
   "metadata": {},
   "outputs": [],
   "source": [
    "import pandas as pd\n",
    "\n",
    "df = pd.read_parquet('GOLD.PA.parquet')\n",
    "\n",
    "print('Datos cargados desde el archivo Parquet:')\n",
    "df.head()"
   ]
  }
 ],
 "metadata": {
  "kernelspec": {
   "display_name": ".venv",
   "language": "python",
   "name": "python3"
  },
  "language_info": {
   "codemirror_mode": {
    "name": "ipython",
    "version": 3
   },
   "file_extension": ".py",
   "mimetype": "text/x-python",
   "name": "python",
   "nbconvert_exporter": "python",
   "pygments_lexer": "ipython3",
   "version": "3.13.1"
  }
 },
 "nbformat": 4,
 "nbformat_minor": 4
}
