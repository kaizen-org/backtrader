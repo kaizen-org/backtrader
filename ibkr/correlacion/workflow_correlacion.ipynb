{
 "cells": [
  {
   "cell_type": "markdown",
   "metadata": {},
   "source": [
    "# Flujo de Trabajo del Modelo de Correlación\n",
    "\n",
    "Este notebook ejecuta el pipeline completo para el modelo de predicción de rentabilidad de acciones, desde la descarga de datos hasta la predicción final."
   ]
  },
  {
   "cell_type": "markdown",
   "metadata": {},
   "source": [
    "## Paso 1: Descarga de Datos Históricos\n",
    "\n",
    "Ejecuta el script `batch_download.py` para descargar 5 años de datos históricos para todos los tickers listados en `nyse_tickers.csv`.\n",
    "\n",
    "**Nota**: Este proceso puede tardar mucho tiempo dependiendo del número de tickers y la conexión."
   ]
  },
  {
   "cell_type": "code",
   "execution_count": null,
   "metadata": {},
   "outputs": [],
   "source": [
    "!python ../batch_download.py"
   ]
  },
  {
   "cell_type": "markdown",
   "metadata": {},
   "source": [
    "## Paso 2: Preparación y Enriquecimiento de Datos\n",
    "\n",
    "Ejecuta el script `data_prep_correlation.py` para procesar los datos descargados.\n",
    "\n",
    "Este script:\n",
    "1. Normaliza los nombres de los tickers.\n",
    "2. Calcula indicadores técnicos.\n",
    "3. Calcula la rentabilidad de pares correlacionados.\n",
    "4. Guarda el resultado en `all_enriched_data.csv`."
   ]
  },
  {
   "cell_type": "code",
   "execution_count": null,
   "metadata": {},
   "outputs": [],
   "source": [
    "!python data_prep_correlation.py"
   ]
  },
  {
   "cell_type": "markdown",
   "metadata": {},
   "source": [
    "## Paso 3: Entrenamiento del Modelo GRU\n",
    "\n",
    "Ejecuta el script `train_correlation_model.py` para entrenar la red neuronal con los datos procesados.\n",
    "\n",
    "Este script:\n",
    "1. Carga los datos de `all_enriched_data.csv`.\n",
    "2. Crea secuencias para el modelo GRU.\n",
    "3. Entrena el modelo y guarda el mejor resultado en `correlation_model.h5`.\n",
    "4. Genera una gráfica `training_loss.png` para diagnosticar el entrenamiento."
   ]
  },
  {
   "cell_type": "code",
   "execution_count": null,
   "metadata": {},
   "outputs": [],
   "source": [
    "!python train_correlation_model.py"
   ]
  },
  {
   "cell_type": "markdown",
   "metadata": {},
   "source": [
    "### Análisis de la Gráfica de Entrenamiento\n",
    "\n",
    "La siguiente celda muestra la gráfica de las curvas de pérdida (`loss`) durante el entrenamiento. Es el indicador más importante para saber si el modelo ha aprendido correctamente.\n",
    "\n",
    "- **Pérdida de Entrenamiento (azul)**: El error del modelo sobre los datos que ha visto.\n",
    "- **Pérdida de Validación (naranja)**: El error del modelo sobre datos nuevos. **Esta es la métrica más importante.**\n",
    "\n",
    "Buscamos que ambas curvas desciendan y que la de validación se estabilice en un valor bajo."
   ]
  },
  {
   "cell_type": "code",
   "execution_count": null,
   "metadata": {},
   "outputs": [],
   "source": [
    "from IPython.display import Image\n",
    "\n",
    "try:\n",
    "    display(Image(filename='training_loss.png'))\n",
    "except FileNotFoundError:\n",
    "    print(\"No se encontró la imagen 'training_loss.png'. Asegúrate de que el paso de entrenamiento se completó sin errores.\")"
   ]
  },
  {
   "cell_type": "markdown",
   "metadata": {},
   "source": [
    "## Paso 4: Predicción del Top 5\n",
    "\n",
    "Finalmente, ejecuta `predict_top_5.py` para cargar el modelo entrenado y predecir qué 5 tickers tienen la mayor probabilidad de rentabilidad en los próximos 5 días."
   ]
  },
  {
   "cell_type": "code",
   "execution_count": null,
   "metadata": {},
   "outputs": [],
   "source": [
    "!python predict_top_5.py"
   ]
  }
 ],
 "metadata": {
  "kernelspec": {
   "display_name": "a0",
   "language": "python",
   "name": "python3"
  },
  "language_info": {
   "codemirror_mode": {
    "name": "ipython",
    "version": 3
   },
   "file_extension": ".py",
   "mimetype": "text/x-python",
   "name": "python",
   "nbconvert_exporter": "python",
   "pygments_lexer": "ipython3",
   "version": "3.12.9"
  }
 },
 "nbformat": 4,
 "nbformat_minor": 4
}
