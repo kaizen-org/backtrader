{
 "cells": [
  {
   "cell_type": "markdown",
   "metadata": {},
   "source": [
    "# Descargar Datos Históricos de Interactive Brokers\n",
    "\n",
    "Este notebook muestra cómo descargar datos históricos de Interactive Brokers (IBKR) utilizando `backtrader`. \n",
    "Utilizaremos el script `download_data.py` que hemos creado."
   ]
  },
  {
   "cell_type": "markdown",
   "metadata": {},
   "source": [
    "## 1. Requisitos Previos\n",
    "\n",
    "- **TWS o IB Gateway en ejecución**: Asegúrate de que Trader Workstation o IB Gateway están abiertos y configurados para aceptar conexiones de API. \n",
    "- **backtrader instalado**: Si no tienes `backtrader` instalado, la siguiente celda lo instalará."
   ]
  },
  {
   "cell_type": "code",
   "execution_count": null,
   "metadata": {},
   "outputs": [],
   "source": [
    "!pip install backtrader"
   ]
  },
  {
   "cell_type": "markdown",
   "metadata": {},
   "source": [
    "## 2. Descargar los Datos\n",
    "\n",
    "Ahora, vamos a ejecutar el script `download_data.py` desde el notebook. \n",
    "Puedes cambiar los parámetros según tus necesidades.\n",
    "\n",
    "- `--dataname`: El símbolo del instrumento (ej. \"EUR.USD-CASH-IDEALPRO\").\n",
    "- `--fromdate`: La fecha de inicio en formato YYYY-MM-DD.\n",
    "- `--todate`: La fecha de fin en formato YYYY-MM-DD.\n",
    "- `--timeframe`: La granularidad de los datos (ej. \"days\").\n",
    "\n",
    "**Nota**: La primera vez que descargues un instrumento, `backtrader` lo guardará en su caché local. Las siguientes veces, los datos se cargarán desde la caché, lo que es mucho más rápido."
   ]
  },
  {
   "cell_type": "code",
   "execution_count": null,
   "metadata": {},
   "outputs": [],
   "source": [
    "!python download_data.py --dataname \"EUR.USD-CASH-IDEALPRO\" --fromdate \"2022-01-01\" --todate \"2023-01-01\""
   ]
  },
  {
   "cell_type": "markdown",
   "metadata": {},
   "source": [
    "## 3. Cargar y Visualizar los Datos\n",
    "\n",
    "Una vez que los datos se han descargado y guardado en la caché, podemos cargarlos en un `Cerebro` de `backtrader` y utilizarlos. \n",
    "Para verificar que los datos se han descargado correctamente, vamos a cargarlos y a continuación los visualizaremos en un gráfico."
   ]
  },
  {
   "cell_type": "code",
   "execution_count": null,
   "metadata": {},
   "outputs": [],
   "source": [
    "import backtrader as bt\n",
    "import matplotlib.pyplot as plt\n",
    "\n",
    "# Configura Cerebro\n",
    "cerebro = bt.Cerebro()\n",
    "\n",
    "# Configura la conexión a IBKR (para cargar desde la caché)\n",
    "store = bt.stores.IBStore(host='127.0.0.1', port=7497)\n",
    "\n",
    "# Obtiene los datos desde la caché\n",
    "data = store.getdata(dataname='EUR.USD-CASH-IDEALPRO', timeframe=bt.TimeFrame.Days, fromdate=bt.datetime.datetime(2022, 1, 1), todate=bt.datetime.datetime(2023, 1, 1))\n",
    "\n",
    "# Añade los datos a Cerebro\n",
    "cerebro.adddata(data)\n",
    "\n",
    "# Ejecuta Cerebro (necesario para cargar los datos)\n",
    "cerebro.run()\n",
    "\n",
    "# Grafica los datos\n",
    "cerebro.plot(style='candlestick', barup='green', bardown='red')"
   ]
  }
 ],
 "metadata": {
  "kernelspec": {
   "display_name": "Python 3",
   "language": "python",
   "name": "python3"
  },
  "language_info": {
   "codemirror_mode": {
    "name": "ipython",
    "version": 3
   },
   "file_extension": ".py",
   "mimetype": "text/x-python",
   "name": "python",
   "nbconvert_exporter": "python",
   "pygments_lexer": "ipython3",
   "version": "3.10.0"
  }
 },
 "nbformat": 4,
 "nbformat_minor": 4
}
